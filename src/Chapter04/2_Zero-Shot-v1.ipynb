{
 "cells": [
  {
   "cell_type": "markdown",
   "id": "45e02995",
   "metadata": {},
   "source": [
    "# Zero-Shot Prompting with LangChain\n",
    "\n",
    "This notebook demonstrates **Zero-Shot Prompting**, a fundamental prompt pattern where we ask the LLM to perform a task without providing any examples.\n",
    "\n",
    "## Key Characteristics of Zero-Shot Prompting:\n",
    "- No training examples provided\n",
    "- Relies on the model's pre-trained knowledge\n",
    "- Direct task instruction\n",
    "- Minimal context setup"
   ]
  },
  {
   "cell_type": "code",
   "execution_count": null,
   "id": "22f29490",
   "metadata": {},
   "outputs": [],
   "source": [
    "import os\n",
    "from langchain_openai import ChatOpenAI\n",
    "from dotenv import load_dotenv\n",
    "\n",
    "load_dotenv()"
   ]
  },
  {
   "cell_type": "code",
   "execution_count": null,
   "id": "819635fc",
   "metadata": {},
   "outputs": [],
   "source": [
    "# Variables\n",
    "model_name = \"gpt-4.1\"\n",
    "\n",
    "user_prompt = \"Name the tallest mountain in the world and in North America\""
   ]
  },
  {
   "cell_type": "code",
   "execution_count": null,
   "id": "e5ac2f1c",
   "metadata": {},
   "outputs": [],
   "source": [
    "# Make sure to set your OPENAI_API_KEY environment variable\n",
    "api_key = os.getenv(\"OPENAI_API_KEY\")\n",
    "if not api_key:\n",
    "    print(\"Warning: OPENAI_API_KEY environment variable not set\")\n",
    "    print(\n",
    "        \"Please set it with: os.environ['OPENAI_API_KEY'] = 'your-api-key-here'\")\n",
    "\n",
    "# Initialize the OpenAI LLM\n",
    "llm = ChatOpenAI(\n",
    "    temperature=0,\n",
    "    openai_api_key=api_key,\n",
    "    model=model_name,\n",
    ")\n",
    "\n",
    "print(\"LLM initialized successfully!\")"
   ]
  },
  {
   "cell_type": "code",
   "execution_count": null,
   "id": "517682bb",
   "metadata": {},
   "outputs": [],
   "source": [
    "## This Code is working ##\n",
    "llm_response = llm.invoke(user_prompt)\n",
    "\n",
    "print(f\"User Input: {user_prompt}\")\n",
    "print(f\"\\nLLM Response: {llm_response}\")\n",
    "\n",
    "response_content = llm_response.content\n",
    "print(f\"Output: {response_content}\")"
   ]
  }
 ],
 "metadata": {
  "kernelspec": {
   "display_name": ".venv",
   "language": "python",
   "name": "python3"
  },
  "language_info": {
   "codemirror_mode": {
    "name": "ipython",
    "version": 3
   },
   "file_extension": ".py",
   "mimetype": "text/x-python",
   "name": "python",
   "nbconvert_exporter": "python",
   "pygments_lexer": "ipython3",
   "version": "3.12.5"
  }
 },
 "nbformat": 4,
 "nbformat_minor": 5
}
