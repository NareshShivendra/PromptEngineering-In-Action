{
 "cells": [
  {
   "cell_type": "markdown",
   "metadata": {},
   "source": [
    "# Multi-Shot Prompting"
   ]
  },
  {
   "cell_type": "code",
   "execution_count": null,
   "metadata": {},
   "outputs": [],
   "source": [
    "import os\n",
    "from langchain_core.output_parsers import StrOutputParser\n",
    "from langchain_openai import ChatOpenAI\n",
    "from langchain_core.prompts.few_shot import FewShotPromptTemplate\n",
    "from langchain_core.prompts.prompt import PromptTemplate\n",
    "from dotenv import load_dotenv\n",
    "\n",
    "load_dotenv()"
   ]
  },
  {
   "cell_type": "code",
   "execution_count": null,
   "metadata": {},
   "outputs": [],
   "source": [
    "# Variables\n",
    "model_name = \"gpt-4.1\"\n",
    "\n",
    "sentiment_examples = [{\n",
    "\n",
    "            \"Input\": \"I love this movie! It's fantastic.\",\n",
    "\n",
    "            \"Sentiment\": \"Positive\"\n",
    "\n",
    "            },\n",
    "\n",
    "            {\n",
    "\n",
    "            \"Input\": \"This is the worst experience I have ever had.\",\n",
    "\n",
    "            \"Sentiment\": \"Negative\"\n",
    "\n",
    "            },\n",
    "\n",
    "            {\n",
    "\n",
    "            \"Input\": \"The movie was okay, not the best but not the worst\",\n",
    "\n",
    "            \"Sentiment\": \"Neutral\"\n",
    "\n",
    "            },]"
   ]
  },
  {
   "cell_type": "code",
   "execution_count": null,
   "metadata": {},
   "outputs": [],
   "source": [
    "# Make sure to set your OPENAI_API_KEY environment variable\n",
    "api_key = os.getenv(\"OPENAI_API_KEY\")\n",
    "if not api_key:\n",
    "    print(\"Warning: OPENAI_API_KEY environment variable not set\")\n",
    "    print(\n",
    "        \"Please set it with: os.environ['OPENAI_API_KEY'] = 'your-api-key-here'\")\n",
    "\n",
    "# Initialize the OpenAI LLM\n",
    "llm = ChatOpenAI(\n",
    "    temperature=0,\n",
    "    openai_api_key=api_key,\n",
    "    model=model_name,\n",
    ")\n",
    "\n",
    "print(\"LLM initialized successfully!\")"
   ]
  },
  {
   "cell_type": "code",
   "execution_count": null,
   "metadata": {},
   "outputs": [],
   "source": [
    "prompt_template = PromptTemplate(\n",
    "    input_variables=[\"Input\", \"Sentiment\"], template=\"Prompt: {Input}\\n{Sentiment}\")\n",
    "\n",
    "multi_shot_prompt = FewShotPromptTemplate(\n",
    "    examples=sentiment_examples,\n",
    "    example_prompt=prompt_template,\n",
    "    suffix=\"Prompt: {Input}\",\n",
    "    input_variables=[\"Input\"],)"
   ]
  },
  {
   "cell_type": "code",
   "execution_count": null,
   "metadata": {},
   "outputs": [],
   "source": [
    "output_parser = StrOutputParser()\n",
    "chain = multi_shot_prompt | llm | output_parser\n",
    "\n",
    "# Test input\n",
    "test_input = \"\"\"Despite the occasional setbacks and challenges, the team's progress has been remarkable. There were moments of frustration, \n",
    "                but the overall journey has been incredibly rewarding. It's not always easy, but the sense of accomplishment makes it all \n",
    "                worthwhile.\"\"\"\n",
    "\n",
    "# Show the formatted prompt first\n",
    "print(\"--------------Formatted Prompt--------------------\")\n",
    "formatted_prompt = multi_shot_prompt.format(Input=test_input)\n",
    "print(f\"Formatted Prompt: {formatted_prompt}\")\n",
    "\n",
    "print(\"\\n--------------Response from the model--------------------\")\n",
    "# Use the chain with the input dictionary\n",
    "response = chain.invoke({\"Input\": test_input})\n",
    "print(f\"Output: {response}\")"
   ]
  }
 ],
 "metadata": {
  "kernelspec": {
   "display_name": ".venv",
   "language": "python",
   "name": "python3"
  },
  "language_info": {
   "codemirror_mode": {
    "name": "ipython",
    "version": 3
   },
   "file_extension": ".py",
   "mimetype": "text/x-python",
   "name": "python",
   "nbconvert_exporter": "python",
   "pygments_lexer": "ipython3",
   "version": "3.12.5"
  }
 },
 "nbformat": 4,
 "nbformat_minor": 2
}
