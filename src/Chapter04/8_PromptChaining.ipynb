{
 "cells": [
  {
   "cell_type": "markdown",
   "id": "7ce8ea05",
   "metadata": {},
   "source": [
    "# Prompt Chaining"
   ]
  },
  {
   "cell_type": "code",
   "execution_count": null,
   "id": "d2121e71",
   "metadata": {},
   "outputs": [],
   "source": [
    "import os\n",
    "from langchain.agents.agent_types import AgentType\n",
    "from langchain_experimental.agents.agent_toolkits import create_csv_agent\n",
    "from langchain_openai import ChatOpenAI\n",
    "from dotenv import load_dotenv\n",
    "\n",
    "load_dotenv()"
   ]
  },
  {
   "cell_type": "code",
   "execution_count": null,
   "id": "51a75f43",
   "metadata": {},
   "outputs": [],
   "source": [
    "# Variables\n",
    "model_name = \"gpt-4.1\""
   ]
  },
  {
   "cell_type": "code",
   "execution_count": null,
   "id": "f5ea5f36",
   "metadata": {},
   "outputs": [],
   "source": [
    "# Make sure to set your OPENAI_API_KEY environment variable\n",
    "api_key = os.getenv(\"OPENAI_API_KEY\")\n",
    "if not api_key:\n",
    "    print(\"Warning: OPENAI_API_KEY environment variable not set\")\n",
    "    print(\n",
    "        \"Please set it with: os.environ['OPENAI_API_KEY'] = 'your-api-key-here'\")\n",
    "\n",
    "# Initialize the OpenAI LLM\n",
    "llm = ChatOpenAI(\n",
    "    temperature=0,\n",
    "    openai_api_key=api_key,\n",
    "    model=model_name,\n",
    ")\n",
    "\n",
    "print(\"LLM initialized successfully!\")"
   ]
  },
  {
   "cell_type": "code",
   "execution_count": null,
   "id": "75feb0f7",
   "metadata": {},
   "outputs": [],
   "source": [
    "agent = create_csv_agent(\n",
    "    llm,\n",
    "    \"./data/abc-stock.csv\",\n",
    "    verbose=True,\n",
    "    allow_dangerous_code=True,\n",
    "    agent_type=AgentType.ZERO_SHOT_REACT_DESCRIPTION,\n",
    ")\n",
    "\n",
    "print(agent.invoke(\"How many rows are there in the csv file?\"))\n",
    "\n",
    "print(agent.invoke(\"Can you list the earliest stock date and the price?\"))\n",
    "\n",
    "print(agent.invoke(\n",
    "    \"Can you tell me the volume of share on the day when the share price was at its lowest?\"))"
   ]
  }
 ],
 "metadata": {
  "kernelspec": {
   "display_name": ".venv",
   "language": "python",
   "name": "python3"
  },
  "language_info": {
   "codemirror_mode": {
    "name": "ipython",
    "version": 3
   },
   "file_extension": ".py",
   "mimetype": "text/x-python",
   "name": "python",
   "nbconvert_exporter": "python",
   "pygments_lexer": "ipython3",
   "version": "3.12.5"
  }
 },
 "nbformat": 4,
 "nbformat_minor": 5
}
