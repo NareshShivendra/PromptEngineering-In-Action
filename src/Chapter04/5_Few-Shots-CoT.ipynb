{
 "cells": [
  {
   "cell_type": "markdown",
   "id": "bccdd957",
   "metadata": {},
   "source": [
    "# Few Shots CoT Prompting"
   ]
  },
  {
   "cell_type": "code",
   "execution_count": null,
   "id": "bfa5eb11",
   "metadata": {},
   "outputs": [],
   "source": [
    "import os\n",
    "from langchain_openai import ChatOpenAI\n",
    "from langchain_core.messages import HumanMessage, SystemMessage\n",
    "from dotenv import load_dotenv\n",
    "\n",
    "load_dotenv()"
   ]
  },
  {
   "cell_type": "code",
   "execution_count": null,
   "id": "d39e708d",
   "metadata": {},
   "outputs": [],
   "source": [
    "# Variables\n",
    "model_name = \"gpt-4.1\"\n",
    "\n",
    "system_message = \"You are an AI assistant who thinks step-by-step to solve problems.\"\n",
    "\n",
    "user_prompt = \"\"\"\n",
    "Question: Mrs. Smith currently has 10 students in her class. She receives 3 new groups of students over the week. Each group contains 4 students. \n",
    "How many students does Mrs. Smith have in her class now?\n",
    "Answer:\n",
    "Total Students = Current Students + (Number of Groups * Students per Group) \n",
    "Total Students = 10 + (3 * 4) \n",
    "Total Students = 10 + 12 \n",
    "Total Students = 22 \n",
    "Mrs. Smith now has 22 students in her class.\n",
    "Question: A farmer initially has 15 apple trees in his orchard. Over the spring, he plants 5 new rows of trees, with each row containing 3 trees. \n",
    "How many apple trees does the farmer have in his orchard now?\n",
    "\"\"\""
   ]
  },
  {
   "cell_type": "code",
   "execution_count": null,
   "id": "faeb017b",
   "metadata": {},
   "outputs": [],
   "source": [
    "# Make sure to set your OPENAI_API_KEY environment variable\n",
    "api_key = os.getenv(\"OPENAI_API_KEY\")\n",
    "if not api_key:\n",
    "    print(\"Warning: OPENAI_API_KEY environment variable not set\")\n",
    "    print(\n",
    "        \"Please set it with: os.environ['OPENAI_API_KEY'] = 'your-api-key-here'\")\n",
    "\n",
    "# Initialize the OpenAI LLM\n",
    "llm = ChatOpenAI(\n",
    "    temperature=0,\n",
    "    openai_api_key=api_key,\n",
    "    model=model_name,\n",
    ")\n",
    "\n",
    "print(\"LLM initialized successfully!\")"
   ]
  },
  {
   "cell_type": "code",
   "execution_count": null,
   "id": "b98e9727",
   "metadata": {},
   "outputs": [],
   "source": [
    "chat_messages = [SystemMessage(\n",
    "    content=system_message), HumanMessage(content=user_prompt)]\n",
    "llm_response = llm(chat_messages)\n",
    "\n",
    "print(f\"Response received from LLM! {llm_response}\")\n",
    "\n",
    "response_content = llm_response.content\n",
    "print(f\"Output: {response_content}\")"
   ]
  }
 ],
 "metadata": {
  "kernelspec": {
   "display_name": ".venv",
   "language": "python",
   "name": "python3"
  },
  "language_info": {
   "codemirror_mode": {
    "name": "ipython",
    "version": 3
   },
   "file_extension": ".py",
   "mimetype": "text/x-python",
   "name": "python",
   "nbconvert_exporter": "python",
   "pygments_lexer": "ipython3",
   "version": "3.12.5"
  }
 },
 "nbformat": 4,
 "nbformat_minor": 5
}
