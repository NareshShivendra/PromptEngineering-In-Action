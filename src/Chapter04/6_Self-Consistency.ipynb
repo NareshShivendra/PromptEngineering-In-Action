{
 "cells": [
  {
   "cell_type": "markdown",
   "metadata": {},
   "source": [
    "# Self-Consistency Prompting"
   ]
  },
  {
   "cell_type": "code",
   "execution_count": null,
   "metadata": {},
   "outputs": [],
   "source": [
    "import os\n",
    "from langchain import PromptTemplate, LLMChain\n",
    "from langchain_openai import ChatOpenAI\n",
    "from langchain_core.messages import HumanMessage, SystemMessage\n",
    "from dotenv import load_dotenv\n",
    "\n",
    "load_dotenv()"
   ]
  },
  {
   "cell_type": "code",
   "execution_count": null,
   "metadata": {},
   "outputs": [],
   "source": [
    "# Variables\n",
    "model_name = \"gpt-4.1\"\n",
    "\n",
    "# Define the question\n",
    "question = \"\"\"A farmer has 20 apple trees. Each tree produces 10 apples per day. \n",
    "The farmer eats 4 apples himself and uses 6 apples to make pies every day. He sells the rest for $0.50 per apple. \n",
    "How much money does he make every day?\"\"\""
   ]
  },
  {
   "cell_type": "code",
   "execution_count": null,
   "metadata": {},
   "outputs": [],
   "source": [
    "# Define the prompt template\n",
    "prompt_template = \"\"\"\n",
    "Q: {question}\n",
    "\"\"\"\n",
    "# Create the prompt object\n",
    "prompt = PromptTemplate(template=prompt_template, input_variables=[\"question\"])"
   ]
  },
  {
   "cell_type": "code",
   "execution_count": null,
   "metadata": {},
   "outputs": [],
   "source": [
    "# Make sure to set your OPENAI_API_KEY environment variable\n",
    "api_key = os.getenv(\"OPENAI_API_KEY\")\n",
    "if not api_key:\n",
    "    print(\"Warning: OPENAI_API_KEY environment variable not set\")\n",
    "    print(\n",
    "        \"Please set it with: os.environ['OPENAI_API_KEY'] = 'your-api-key-here'\")\n",
    "\n",
    "# Initialize the OpenAI LLM\n",
    "llm = ChatOpenAI(\n",
    "    temperature=0,\n",
    "    openai_api_key=api_key,\n",
    "    model=model_name,\n",
    ")\n",
    "\n",
    "print(\"LLM initialized successfully!\")\n",
    "\n",
    "# Create the LLMChain with the prompt and LLM\n",
    "llm_chain = LLMChain(prompt=prompt, llm=llm)"
   ]
  },
  {
   "cell_type": "code",
   "execution_count": null,
   "metadata": {},
   "outputs": [],
   "source": [
    "# Generate multiple reasoning paths\n",
    "generated_responses = []\n",
    "\n",
    "for _ in range(5):  # Generate 5 different responses\n",
    "   llm_output = llm_chain.run(question=question)\n",
    "   generated_responses.append(llm_output.strip())"
   ]
  },
  {
   "cell_type": "code",
   "execution_count": null,
   "metadata": {},
   "outputs": [],
   "source": [
    "# Aggregate the results and find the most consistent answer\n",
    "from collections import Counter\n",
    "\n",
    "# Extract final answers from the reasoning paths\n",
    "final_answers = [answer_option for answer_option in generated_responses]\n",
    "most_common_answer = Counter(final_answers).most_common(1)[0][0]\n",
    "\n",
    "# Display all responses and the most consistent answer\n",
    "print(\"Responses:\")\n",
    "for i, response in enumerate(generated_responses, 1):\n",
    "   print(f\"Response {i}: {response}\")"
   ]
  },
  {
   "cell_type": "code",
   "execution_count": null,
   "metadata": {},
   "outputs": [],
   "source": [
    "print(\"\\nMost Consistent Answer:\", most_common_answer)"
   ]
  }
 ],
 "metadata": {
  "kernelspec": {
   "display_name": ".venv",
   "language": "python",
   "name": "python3"
  },
  "language_info": {
   "codemirror_mode": {
    "name": "ipython",
    "version": 3
   },
   "file_extension": ".py",
   "mimetype": "text/x-python",
   "name": "python",
   "nbconvert_exporter": "python",
   "pygments_lexer": "ipython3",
   "version": "3.12.5"
  }
 },
 "nbformat": 4,
 "nbformat_minor": 2
}
